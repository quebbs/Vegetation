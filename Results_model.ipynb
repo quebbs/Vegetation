{
 "metadata": {
  "name": "",
  "signature": "sha256:9dde7929036b2fbf9f8c21ee3017ee1e3519fe7569535f5856dfb29c04679702"
 },
 "nbformat": 3,
 "nbformat_minor": 0,
 "worksheets": [
  {
   "cells": [
    {
     "cell_type": "code",
     "collapsed": false,
     "input": [
      "import pandas as ps\n",
      "from bokeh.plotting import figure, show, output_file\n",
      "from bokeh.models import ColumnDataSource,HBox,VBox\n",
      "#output_notebook()\n",
      "output_file('VIC_Data.html')"
     ],
     "language": "python",
     "metadata": {},
     "outputs": [],
     "prompt_number": 17
    },
    {
     "cell_type": "code",
     "collapsed": false,
     "input": [
      "Dat=ps.read_csv('./Results/RES_45.5625_-88.5625',skiprows=5,delim_whitespace=True)\n",
      "Dat100=ps.read_csv('./Results/RES_45.5625_-88.5625_100',skiprows=5,delim_whitespace=True)\n",
      "#Dat.head()\n",
      "#ResHead=['Year','JDay','Hour','MA_T','MA_I','MA_S','s0','PsiS','PsiL','Lambda','gc','An','Et','vpd']\n",
      "Res=ps.read_csv('./Results/Summary.txt')\n",
      "Res.head(10)\n",
      "Stom1000=ps.read_csv('Stomata_JQ_45.5625_-88.5625_1000.txt')\n",
      "Stom100=ps.read_csv('Stomata_JQ_45.5625_-88.5625_100.txt')\n",
      "globals()['Dat','Dat100','Stom100','Stom1000']=Dat,Dat100,Stom100,Stom1000\n",
      "#Stom.head()"
     ],
     "language": "python",
     "metadata": {},
     "outputs": [],
     "prompt_number": 36
    },
    {
     "cell_type": "code",
     "collapsed": false,
     "input": [
      "Stom.head()"
     ],
     "language": "python",
     "metadata": {},
     "outputs": [
      {
       "html": [
        "<div style=\"max-height:1000px;max-width:1500px;overflow:auto;\">\n",
        "<table border=\"1\" class=\"dataframe\">\n",
        "  <thead>\n",
        "    <tr style=\"text-align: right;\">\n",
        "      <th></th>\n",
        "      <th>Year</th>\n",
        "      <th>JDay</th>\n",
        "      <th>Hour</th>\n",
        "      <th>MA_T</th>\n",
        "      <th>MA_I</th>\n",
        "      <th>MA_S</th>\n",
        "      <th>s0</th>\n",
        "      <th>PsiS</th>\n",
        "      <th>PsiL</th>\n",
        "      <th>Lambda</th>\n",
        "      <th>gc</th>\n",
        "      <th>An</th>\n",
        "      <th>Et</th>\n",
        "      <th>vpd</th>\n",
        "      <th>rc</th>\n",
        "      <th>Unnamed: 15</th>\n",
        "    </tr>\n",
        "  </thead>\n",
        "  <tbody>\n",
        "    <tr>\n",
        "      <th>0</th>\n",
        "      <td>1980</td>\n",
        "      <td>1</td>\n",
        "      <td>0</td>\n",
        "      <td>-3.380826</td>\n",
        "      <td>167.125720</td>\n",
        "      <td>0.147293</td>\n",
        "      <td>0.1462</td>\n",
        "      <td>-0.1193</td>\n",
        "      <td>-0.2193</td>\n",
        "      <td>1061.4</td>\n",
        "      <td>0.003</td>\n",
        "      <td>0</td>\n",
        "      <td>0</td>\n",
        "      <td>103.04</td>\n",
        "      <td>NaN</td>\n",
        "      <td>NaN</td>\n",
        "    </tr>\n",
        "    <tr>\n",
        "      <th>1</th>\n",
        "      <td>1980</td>\n",
        "      <td>1</td>\n",
        "      <td>2</td>\n",
        "      <td>-3.386949</td>\n",
        "      <td>166.958596</td>\n",
        "      <td>0.148327</td>\n",
        "      <td>0.1463</td>\n",
        "      <td>-0.1193</td>\n",
        "      <td>-0.2193</td>\n",
        "      <td>1061.4</td>\n",
        "      <td>0.003</td>\n",
        "      <td>0</td>\n",
        "      <td>0</td>\n",
        "      <td>57.52</td>\n",
        "      <td>NaN</td>\n",
        "      <td>NaN</td>\n",
        "    </tr>\n",
        "    <tr>\n",
        "      <th>2</th>\n",
        "      <td>1980</td>\n",
        "      <td>1</td>\n",
        "      <td>4</td>\n",
        "      <td>-3.397600</td>\n",
        "      <td>166.791640</td>\n",
        "      <td>0.149350</td>\n",
        "      <td>0.1463</td>\n",
        "      <td>-0.1193</td>\n",
        "      <td>-0.2193</td>\n",
        "      <td>1061.4</td>\n",
        "      <td>0.003</td>\n",
        "      <td>0</td>\n",
        "      <td>0</td>\n",
        "      <td>26.33</td>\n",
        "      <td>NaN</td>\n",
        "      <td>NaN</td>\n",
        "    </tr>\n",
        "    <tr>\n",
        "      <th>3</th>\n",
        "      <td>1980</td>\n",
        "      <td>1</td>\n",
        "      <td>6</td>\n",
        "      <td>-3.410413</td>\n",
        "      <td>166.624850</td>\n",
        "      <td>0.150363</td>\n",
        "      <td>0.1463</td>\n",
        "      <td>-0.1193</td>\n",
        "      <td>-0.2193</td>\n",
        "      <td>1061.4</td>\n",
        "      <td>0.003</td>\n",
        "      <td>0</td>\n",
        "      <td>0</td>\n",
        "      <td>11.97</td>\n",
        "      <td>NaN</td>\n",
        "      <td>NaN</td>\n",
        "    </tr>\n",
        "    <tr>\n",
        "      <th>4</th>\n",
        "      <td>1980</td>\n",
        "      <td>1</td>\n",
        "      <td>8</td>\n",
        "      <td>-3.418288</td>\n",
        "      <td>166.500770</td>\n",
        "      <td>0.151365</td>\n",
        "      <td>0.1463</td>\n",
        "      <td>-0.1193</td>\n",
        "      <td>-0.2193</td>\n",
        "      <td>1061.4</td>\n",
        "      <td>0.003</td>\n",
        "      <td>0</td>\n",
        "      <td>0</td>\n",
        "      <td>46.40</td>\n",
        "      <td>NaN</td>\n",
        "      <td>NaN</td>\n",
        "    </tr>\n",
        "  </tbody>\n",
        "</table>\n",
        "</div>"
       ],
       "metadata": {},
       "output_type": "pyout",
       "prompt_number": 38,
       "text": [
        "   Year  JDay  Hour      MA_T        MA_I      MA_S      s0    PsiS    PsiL  \\\n",
        "0  1980     1     0 -3.380826  167.125720  0.147293  0.1462 -0.1193 -0.2193   \n",
        "1  1980     1     2 -3.386949  166.958596  0.148327  0.1463 -0.1193 -0.2193   \n",
        "2  1980     1     4 -3.397600  166.791640  0.149350  0.1463 -0.1193 -0.2193   \n",
        "3  1980     1     6 -3.410413  166.624850  0.150363  0.1463 -0.1193 -0.2193   \n",
        "4  1980     1     8 -3.418288  166.500770  0.151365  0.1463 -0.1193 -0.2193   \n",
        "\n",
        "   Lambda     gc  An  Et     vpd  rc  Unnamed: 15  \n",
        "0  1061.4  0.003   0   0  103.04 NaN          NaN  \n",
        "1  1061.4  0.003   0   0   57.52 NaN          NaN  \n",
        "2  1061.4  0.003   0   0   26.33 NaN          NaN  \n",
        "3  1061.4  0.003   0   0   11.97 NaN          NaN  \n",
        "4  1061.4  0.003   0   0   46.40 NaN          NaN  "
       ]
      }
     ],
     "prompt_number": 38
    },
    {
     "cell_type": "code",
     "collapsed": false,
     "input": [
      "F=figure()\n",
      "F.line('s0','An',source=ColumnDataSource(Res))\n",
      "show(F)"
     ],
     "language": "python",
     "metadata": {},
     "outputs": [],
     "prompt_number": 4
    },
    {
     "cell_type": "code",
     "collapsed": false,
     "input": [
      "#P_Trans=figure(title='Transpiration VIC',height=350)\n",
      "#P_Trans.line(Dat.index,Dat.OUT_TRANSP_VEG)\n",
      "#P_Trans.line(Dat100.index,Dat100.OUT_TRANSP_VEG,line_color='red')\n",
      "P_Trans=figure(title='Transpiration STOM',height=350,y_range=(0,.13))\n",
      "P_Trans.line(Stom.index,Stom.Et)\n",
      "P_Trans.line(Stom100.index,Stom100.Et,line_color='red')\n",
      "\n",
      "P_s0=figure(title='Soil Moist',x_range=P_Trans.x_range,height=350)\n",
      "P_s0.line(Dat.index,Dat.OUT_SOIL_LIQ_1)\n",
      "P_s0.line(Dat100.index,Dat100.OUT_SOIL_LIQ_1,line_color='red')\n",
      "\n",
      "P_gc=figure(title='Stomatal Conductance',x_range=P_Trans.x_range,height=350,y_range=(0,5))\n",
      "P_gc.line(Stom1000.index,Stom1000.gc)\n",
      "P_gc.line(Stom100.index,Stom100.gc,line_color='red')\n",
      "\n",
      "show(VBox(HBox(P_Trans,P_s0),HBox(P_gc)))"
     ],
     "language": "python",
     "metadata": {},
     "outputs": [],
     "prompt_number": 48
    },
    {
     "cell_type": "code",
     "collapsed": false,
     "input": [
      "Dat.tail()"
     ],
     "language": "python",
     "metadata": {},
     "outputs": [
      {
       "html": [
        "<div style=\"max-height:1000px;max-width:1500px;overflow:auto;\">\n",
        "<table border=\"1\" class=\"dataframe\">\n",
        "  <thead>\n",
        "    <tr style=\"text-align: right;\">\n",
        "      <th></th>\n",
        "      <th>#YEAR</th>\n",
        "      <th>MONTH</th>\n",
        "      <th>DAY</th>\n",
        "      <th>HOUR</th>\n",
        "      <th>OUT_PREC</th>\n",
        "      <th>OUT_AIR_TEMP</th>\n",
        "      <th>OUT_VPD</th>\n",
        "      <th>OUT_EVAP</th>\n",
        "      <th>OUT_TRANSP_VEG</th>\n",
        "      <th>OUT_SOIL_LIQ_0</th>\n",
        "      <th>OUT_SOIL_LIQ_1</th>\n",
        "      <th>OUT_SOIL_LIQ_2</th>\n",
        "    </tr>\n",
        "  </thead>\n",
        "  <tbody>\n",
        "    <tr>\n",
        "      <th>13147</th>\n",
        "      <td>1982</td>\n",
        "      <td>12</td>\n",
        "      <td>31</td>\n",
        "      <td>14</td>\n",
        "      <td>0</td>\n",
        "      <td>-3.0224</td>\n",
        "      <td>0.1570</td>\n",
        "      <td>-0.0067</td>\n",
        "      <td>0</td>\n",
        "      <td>19.7047</td>\n",
        "      <td>173.1874</td>\n",
        "      <td>102.7114</td>\n",
        "    </tr>\n",
        "    <tr>\n",
        "      <th>13148</th>\n",
        "      <td>1982</td>\n",
        "      <td>12</td>\n",
        "      <td>31</td>\n",
        "      <td>16</td>\n",
        "      <td>0</td>\n",
        "      <td>-3.2716</td>\n",
        "      <td>0.1471</td>\n",
        "      <td>-0.0078</td>\n",
        "      <td>0</td>\n",
        "      <td>19.6918</td>\n",
        "      <td>173.1579</td>\n",
        "      <td>102.7316</td>\n",
        "    </tr>\n",
        "    <tr>\n",
        "      <th>13149</th>\n",
        "      <td>1982</td>\n",
        "      <td>12</td>\n",
        "      <td>31</td>\n",
        "      <td>18</td>\n",
        "      <td>0</td>\n",
        "      <td>-3.7845</td>\n",
        "      <td>0.1274</td>\n",
        "      <td>-0.0085</td>\n",
        "      <td>0</td>\n",
        "      <td>19.6791</td>\n",
        "      <td>173.1283</td>\n",
        "      <td>102.7517</td>\n",
        "    </tr>\n",
        "    <tr>\n",
        "      <th>13150</th>\n",
        "      <td>1982</td>\n",
        "      <td>12</td>\n",
        "      <td>31</td>\n",
        "      <td>20</td>\n",
        "      <td>0</td>\n",
        "      <td>-4.4733</td>\n",
        "      <td>0.1020</td>\n",
        "      <td>-0.0091</td>\n",
        "      <td>0</td>\n",
        "      <td>19.6664</td>\n",
        "      <td>173.0987</td>\n",
        "      <td>102.7717</td>\n",
        "    </tr>\n",
        "    <tr>\n",
        "      <th>13151</th>\n",
        "      <td>1982</td>\n",
        "      <td>12</td>\n",
        "      <td>31</td>\n",
        "      <td>22</td>\n",
        "      <td>0</td>\n",
        "      <td>-5.2500</td>\n",
        "      <td>0.0750</td>\n",
        "      <td>-0.0099</td>\n",
        "      <td>0</td>\n",
        "      <td>19.6539</td>\n",
        "      <td>173.0691</td>\n",
        "      <td>102.7916</td>\n",
        "    </tr>\n",
        "  </tbody>\n",
        "</table>\n",
        "</div>"
       ],
       "metadata": {},
       "output_type": "pyout",
       "prompt_number": 5,
       "text": [
        "       #YEAR  MONTH  DAY  HOUR  OUT_PREC  OUT_AIR_TEMP  OUT_VPD  OUT_EVAP  \\\n",
        "13147   1982     12   31    14         0       -3.0224   0.1570   -0.0067   \n",
        "13148   1982     12   31    16         0       -3.2716   0.1471   -0.0078   \n",
        "13149   1982     12   31    18         0       -3.7845   0.1274   -0.0085   \n",
        "13150   1982     12   31    20         0       -4.4733   0.1020   -0.0091   \n",
        "13151   1982     12   31    22         0       -5.2500   0.0750   -0.0099   \n",
        "\n",
        "       OUT_TRANSP_VEG  OUT_SOIL_LIQ_0  OUT_SOIL_LIQ_1  OUT_SOIL_LIQ_2  \n",
        "13147               0         19.7047        173.1874        102.7114  \n",
        "13148               0         19.6918        173.1579        102.7316  \n",
        "13149               0         19.6791        173.1283        102.7517  \n",
        "13150               0         19.6664        173.0987        102.7717  \n",
        "13151               0         19.6539        173.0691        102.7916  "
       ]
      }
     ],
     "prompt_number": 5
    },
    {
     "cell_type": "code",
     "collapsed": false,
     "input": [],
     "language": "python",
     "metadata": {},
     "outputs": []
    }
   ],
   "metadata": {}
  }
 ]
}